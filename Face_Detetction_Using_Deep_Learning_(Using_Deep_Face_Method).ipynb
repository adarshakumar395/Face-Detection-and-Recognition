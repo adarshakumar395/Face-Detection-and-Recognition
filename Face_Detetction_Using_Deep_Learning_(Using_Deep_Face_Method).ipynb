{
  "nbformat": 4,
  "nbformat_minor": 0,
  "metadata": {
    "colab": {
      "private_outputs": true,
      "provenance": [],
      "mount_file_id": "1gmE3DPaYV0BUiHGaMbWGQIzIOw1FGkym",
      "authorship_tag": "ABX9TyODbQ9Q5PuK0HNZ21On4WI1",
      "include_colab_link": true
    },
    "kernelspec": {
      "name": "python3",
      "display_name": "Python 3"
    },
    "language_info": {
      "name": "python"
    }
  },
  "cells": [
    {
      "cell_type": "markdown",
      "metadata": {
        "id": "view-in-github",
        "colab_type": "text"
      },
      "source": [
        "<a href=\"https://colab.research.google.com/github/adarshakumar395/Face-Detection-and-Recognition/blob/main/Face_Detetction_Using_Deep_Learning_(Using_Deep_Face_Method).ipynb\" target=\"_parent\"><img src=\"https://colab.research.google.com/assets/colab-badge.svg\" alt=\"Open In Colab\"/></a>"
      ]
    },
    {
      "cell_type": "markdown",
      "source": [
        "Deep learning methods for face detection and recognition.\n",
        "\n",
        "**Using Deep Face Method**\n"
      ],
      "metadata": {
        "id": "O-5jSBAgJj7N"
      }
    },
    {
      "cell_type": "code",
      "execution_count": null,
      "metadata": {
        "id": "hHtyFzruxS1T"
      },
      "outputs": [],
      "source": [
        "!pip install deepface\n",
        "!pip install opencv-python\n",
        "!pip install matplotlib"
      ]
    },
    {
      "cell_type": "code",
      "source": [
        "from deepface import DeepFace\n",
        "import cv2\n",
        "import matplotlib.pyplot as plt"
      ],
      "metadata": {
        "id": "LQZ_bhjQxiKu"
      },
      "execution_count": null,
      "outputs": []
    },
    {
      "cell_type": "markdown",
      "source": [
        "Uplaod the Path of Img1 and img2 , whic you want to comapre .\n",
        "\n",
        "You can use drive image also or else manually you can also upload.\n"
      ],
      "metadata": {
        "id": "OzR3s8l0J5Ew"
      }
    },
    {
      "cell_type": "code",
      "source": [
        "def verify(img1_path,img2_path):\n",
        "  img1 = cv2.imread(img1_path)\n",
        "  img2 = cv2.imread(img2_path)\n",
        "\n",
        "  plt.imshow(img1[:,:,::-1])\n",
        "  plt.show()\n",
        "\n",
        "  plt.imshow(img2[:,:,::-1])\n",
        "  plt.show()\n",
        "  output = DeepFace.verify('/content/img1.png','/content/img2.jpg')\n",
        "\n",
        "  print(output)\n",
        "  verification = output['verified']\n",
        "  if verification :\n",
        "    print('They are same')\n",
        "  else:\n",
        "      print ('They are not same')"
      ],
      "metadata": {
        "id": "vydCNxPHxqSp"
      },
      "execution_count": null,
      "outputs": []
    },
    {
      "cell_type": "code",
      "source": [
        "verify('img1.png','img2.jpg')"
      ],
      "metadata": {
        "id": "XP35QpvayqIo"
      },
      "execution_count": null,
      "outputs": []
    },
    {
      "cell_type": "markdown",
      "source": [
        "I have uploaded the source image (sample imgae) and the path of the images folder , which will be used for matching the images . it will print the name of each image which is exactly matching.\n",
        "\n",
        "**I have uploaded folder images using drive link.**"
      ],
      "metadata": {
        "id": "FMZNi580KYVI"
      }
    },
    {
      "cell_type": "code",
      "source": [
        "# Option 1: Using Raw Strings\n",
        "\n",
        "df = DeepFace.find(img_path=\"/content/img1.png\", db_path=r\"/content/drive/MyDrive/Photo\")"
      ],
      "metadata": {
        "id": "asTokJUf0uU4"
      },
      "execution_count": null,
      "outputs": []
    },
    {
      "cell_type": "markdown",
      "source": [
        "It is displaying all image source who all are the same.\n",
        "\n"
      ],
      "metadata": {
        "id": "LNBf4Av_LRPz"
      }
    },
    {
      "cell_type": "code",
      "source": [
        "  print(df)"
      ],
      "metadata": {
        "id": "xiJHn58FBBTX"
      },
      "execution_count": null,
      "outputs": []
    },
    {
      "cell_type": "markdown",
      "source": [
        "# **Here it's another method which is printing source image and target image, with the resutl verification which is matching or which is not matching in the folder photo, Using Deep face mathod**"
      ],
      "metadata": {
        "id": "jYKIykEXLcY8"
      }
    },
    {
      "cell_type": "code",
      "source": [
        "import os\n",
        "import cv2\n",
        "from deepface import DeepFace\n",
        "import matplotlib.pyplot as plt\n",
        "\n",
        "\n",
        "\n",
        "def verify(img1_path, img2_folder_path):\n",
        "    img1 = cv2.imread(img1_path)\n",
        "\n",
        "    # Get list of image files in the folder\n",
        "    img2_files = os.listdir(img2_folder_path)\n",
        "\n",
        "    for img2_file in img2_files:\n",
        "        img2_path = os.path.join(img2_folder_path, img2_file)\n",
        "        img2 = cv2.imread(img2_path)\n",
        "\n",
        "        # Check if image loaded successfully\n",
        "        if img2 is None:\n",
        "            print(f\"Failed to load image: {img2_path}\")\n",
        "            continue  # Skip to the next image\n",
        "\n",
        "        # Display img1 and img2\n",
        "        plt.subplot(1, 2, 1)\n",
        "        plt.imshow(cv2.cvtColor(img1, cv2.COLOR_BGR2RGB))\n",
        "        plt.title('Reference Image')\n",
        "        plt.axis('off')\n",
        "\n",
        "        plt.subplot(1, 2, 2)\n",
        "        plt.imshow(cv2.cvtColor(img2, cv2.COLOR_BGR2RGB))\n",
        "        plt.title('Image to Verify')\n",
        "        plt.axis('off')\n",
        "\n",
        "        plt.show()\n",
        "\n",
        "        # Perform verification\n",
        "        output = DeepFace.verify(img1_path, img2_path)\n",
        "        verification = output['verified']\n",
        "\n",
        "        # Print verification result\n",
        "        if verification:\n",
        "            print(f'{img2_file}: They are the same person.')\n",
        "        else:\n",
        "            print(f'{img2_file}: They are not the same person.')\n",
        "\n",
        "# Example usage:\n",
        "img1_path = '/content/img1.png'  # Path to reference image\n",
        "img2_folder_path = '/content/drive/MyDrive/Photo'  # Path to folder containing images to verify\n",
        "\n",
        "verify(img1_path, img2_folder_path)\n"
      ],
      "metadata": {
        "id": "908gOgQmF786"
      },
      "execution_count": null,
      "outputs": []
    },
    {
      "cell_type": "markdown",
      "source": [],
      "metadata": {
        "id": "u0EV9IHVJhm3"
      }
    }
  ]
}